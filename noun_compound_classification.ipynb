{
  "nbformat": 4,
  "nbformat_minor": 0,
  "metadata": {
    "colab": {
      "name": "noun_compound_classification.ipynb",
      "provenance": [],
      "collapsed_sections": []
    },
    "kernelspec": {
      "name": "python3",
      "display_name": "Python 3"
    },
    "language_info": {
      "name": "python"
    },
    "accelerator": "GPU"
  },
  "cells": [
    {
      "cell_type": "markdown",
      "metadata": {
        "id": "X0E-ryxEzYAt"
      },
      "source": [
        "# Noun Compound Classification"
      ]
    },
    {
      "cell_type": "code",
      "metadata": {
        "id": "Bj2AAKH6-x-h",
        "colab": {
          "base_uri": "https://localhost:8080/"
        },
        "outputId": "244e8d3b-08fc-4a12-d76b-3fe0c7d677e1"
      },
      "source": [
        "# Imports\n",
        "import re\n",
        "import pandas as pd\n",
        "import numpy as np\n",
        "import os\n",
        "import json\n",
        "\n",
        "from tqdm import tqdm_notebook, tnrange\n",
        "from tqdm.auto import tqdm\n",
        "\n",
        "from collections import Counter\n",
        "\n",
        "from nltk import word_tokenize\n",
        "from keras.preprocessing.text import Tokenizer\n",
        "from keras.preprocessing.sequence import pad_sequences\n",
        "\n",
        "from keras.models import Sequential\n",
        "from keras.layers import Flatten\n",
        "from keras.layers import Embedding\n",
        "from keras.layers import Dense\n",
        "from keras.layers import LSTM\n",
        "from keras.layers import Bidirectional\n",
        "from keras.callbacks import EarlyStopping\n",
        "from keras.callbacks import ModelCheckpoint\n",
        "\n",
        "from sklearn.preprocessing import StandardScaler\n",
        "from sklearn.preprocessing import LabelEncoder\n",
        "from sklearn.model_selection import train_test_split\n",
        "from keras.utils import plot_model\n",
        "from multiprocessing import  Pool\n",
        "from functools import partial\n",
        "import numpy as np\n",
        "from keras.utils.np_utils import to_categorical\n",
        "\n",
        "# set GPU\n",
        "from tensorflow.python.client import device_lib\n",
        "print(device_lib.list_local_devices())\n",
        "import tensorflow as tf"
      ],
      "execution_count": 107,
      "outputs": [
        {
          "output_type": "stream",
          "text": [
            "[name: \"/device:CPU:0\"\n",
            "device_type: \"CPU\"\n",
            "memory_limit: 268435456\n",
            "locality {\n",
            "}\n",
            "incarnation: 7376182044224797097\n",
            ", name: \"/device:GPU:0\"\n",
            "device_type: \"GPU\"\n",
            "memory_limit: 14674281152\n",
            "locality {\n",
            "  bus_id: 1\n",
            "  links {\n",
            "  }\n",
            "}\n",
            "incarnation: 6281357472747281360\n",
            "physical_device_desc: \"device: 0, name: Tesla T4, pci bus id: 0000:00:04.0, compute capability: 7.5\"\n",
            "]\n"
          ],
          "name": "stdout"
        }
      ]
    },
    {
      "cell_type": "code",
      "metadata": {
        "colab": {
          "base_uri": "https://localhost:8080/"
        },
        "id": "ibt9uF-R8s4F",
        "outputId": "0e94b59e-6694-4f6b-acb3-2f27a486ba4a"
      },
      "source": [
        "! pip install keras-self-attention\n",
        "from keras_self_attention import SeqSelfAttention"
      ],
      "execution_count": 108,
      "outputs": [
        {
          "output_type": "stream",
          "text": [
            "Collecting keras-self-attention\n",
            "  Downloading https://files.pythonhosted.org/packages/c3/34/e21dc6adcdab2be03781bde78c6c5d2b2136d35a1dd3e692d7e160ba062a/keras-self-attention-0.49.0.tar.gz\n",
            "Requirement already satisfied: numpy in /usr/local/lib/python3.7/dist-packages (from keras-self-attention) (1.19.5)\n",
            "Requirement already satisfied: Keras in /usr/local/lib/python3.7/dist-packages (from keras-self-attention) (2.4.3)\n",
            "Requirement already satisfied: pyyaml in /usr/local/lib/python3.7/dist-packages (from Keras->keras-self-attention) (3.13)\n",
            "Requirement already satisfied: scipy>=0.14 in /usr/local/lib/python3.7/dist-packages (from Keras->keras-self-attention) (1.4.1)\n",
            "Requirement already satisfied: h5py in /usr/local/lib/python3.7/dist-packages (from Keras->keras-self-attention) (2.10.0)\n",
            "Requirement already satisfied: six in /usr/local/lib/python3.7/dist-packages (from h5py->Keras->keras-self-attention) (1.15.0)\n",
            "Building wheels for collected packages: keras-self-attention\n",
            "  Building wheel for keras-self-attention (setup.py) ... \u001b[?25l\u001b[?25hdone\n",
            "  Created wheel for keras-self-attention: filename=keras_self_attention-0.49.0-cp37-none-any.whl size=19468 sha256=cf101a84aa9a7ef35c4ff2227e8a7075ca5231754ecdb963213b2cc60b09145c\n",
            "  Stored in directory: /root/.cache/pip/wheels/6f/9d/c5/26693a5092d9313daeae94db04818fc0a2b7a48ea381989f34\n",
            "Successfully built keras-self-attention\n",
            "Installing collected packages: keras-self-attention\n",
            "Successfully installed keras-self-attention-0.49.0\n"
          ],
          "name": "stdout"
        }
      ]
    },
    {
      "cell_type": "code",
      "metadata": {
        "colab": {
          "base_uri": "https://localhost:8080/"
        },
        "id": "x7qEHkcE_IuN",
        "outputId": "d34f0df2-be31-4348-ea8b-fc298795fbc1"
      },
      "source": [
        "from google.colab import drive\n",
        "drive.mount('/content/drive')\n",
        "data_dir = '/content/drive/MyDrive/nnc_data'\n",
        "embed_path = '/content/drive/MyDrive/glove.6B.50d.txt'\n",
        "print(os.listdir(data_dir))"
      ],
      "execution_count": 80,
      "outputs": [
        {
          "output_type": "stream",
          "text": [
            "Drive already mounted at /content/drive; to attempt to forcibly remount, call drive.mount(\"/content/drive\", force_remount=True).\n",
            "['test.json', 'train.json', 'lstm_checkpoint.index', 'lstm_checkpoint.data-00000-of-00001', 'checkpoint', 'lstm_predictions.json']\n"
          ],
          "name": "stdout"
        }
      ]
    },
    {
      "cell_type": "code",
      "metadata": {
        "id": "Qn5kNpQk_Qxb"
      },
      "source": [
        "embed_size = 50\n",
        "max_words = 50000\n",
        "SEED = 42\n",
        "k=15 # no. of context sentences to be picked.\n",
        "input_data_context = True\n",
        "model_name = 'simple_lstm'\n",
        "lstm_rep_size = 32"
      ],
      "execution_count": 166,
      "outputs": []
    },
    {
      "cell_type": "markdown",
      "metadata": {
        "id": "juXB_bv1uZbT"
      },
      "source": [
        "### Data Processing"
      ]
    },
    {
      "cell_type": "code",
      "metadata": {
        "id": "LIcUEmmzrnxk"
      },
      "source": [
        "train_json_file = os.path.join(data_dir, 'train.json')\n",
        "test_json_file = os.path.join(data_dir, 'test.json')\n",
        "\n",
        "with open(train_json_file, 'r') as f:\n",
        "    train_json = json.load(f)\n",
        "\n",
        "with open(test_json_file, 'r') as f:\n",
        "    test_json = json.load(f)"
      ],
      "execution_count": 167,
      "outputs": []
    },
    {
      "cell_type": "code",
      "metadata": {
        "colab": {
          "base_uri": "https://localhost:8080/"
        },
        "id": "_Fk6X9Zr_xRF",
        "outputId": "03038488-4b92-4fc2-82b5-797073d0f1cb"
      },
      "source": [
        "print(len(train_json), type(train_json))\n",
        "print(len(test_json), type(test_json))"
      ],
      "execution_count": 168,
      "outputs": [
        {
          "output_type": "stream",
          "text": [
            "16284 <class 'list'>\n",
            "2874 <class 'list'>\n"
          ],
          "name": "stdout"
        }
      ]
    },
    {
      "cell_type": "code",
      "metadata": {
        "id": "7Kl8gnlR5SUI"
      },
      "source": [
        "def get_context(entry):\n",
        "    sentence_list = entry['context']\n",
        "    sents = [sent.strip() for sent in sentence_list]\n",
        "    num_sents = len(sents)\n",
        "    sents = sents[:min(k, num_sents)]\n",
        "    merged = ' '.join(sents)\n",
        "    return merged\n",
        "\n",
        "def get_label(entry):\n",
        "    if 'label' in entry.keys():\n",
        "        return entry['label']\n",
        "    else:\n",
        "        return None\n",
        "\n",
        "def get_nc(entry):\n",
        "    return entry['nc']"
      ],
      "execution_count": 169,
      "outputs": []
    },
    {
      "cell_type": "code",
      "metadata": {
        "id": "2YvD5by14bs8"
      },
      "source": [
        "def parse_json_to_df(data_json):\n",
        "    data = {\n",
        "        'input' : [],\n",
        "        'label' : [],\n",
        "    }\n",
        "\n",
        "    if input_data_context:\n",
        "        data['input'] = [get_context(entry) for entry in data_json]\n",
        "    else:\n",
        "        data['input'] = [get_nc(entry) for entry in data_json]  \n",
        "    data['label'] = [get_label(entry) for entry in data_json]\n",
        "    df = pd.DataFrame(data)\n",
        "    return df"
      ],
      "execution_count": 170,
      "outputs": []
    },
    {
      "cell_type": "code",
      "metadata": {
        "colab": {
          "base_uri": "https://localhost:8080/"
        },
        "id": "zia3VCNK6SZy",
        "outputId": "022b620e-fa9e-493d-a024-e9748e57e7ca"
      },
      "source": [
        "train_df = parse_json_to_df(train_json)\n",
        "test_df = parse_json_to_df(test_json)\n",
        "print(train_df.head(5))\n",
        "print(test_df.head(5))"
      ],
      "execution_count": 171,
      "outputs": [
        {
          "output_type": "stream",
          "text": [
            "                                               input                         label\n",
            "0  At the time, he stated he intended to keep the...                   LEXICALIZED\n",
            "1  The National Anti-Drug Office or ONA (in Spani...  CREATE-PROVIDE-GENERATE-SELL\n",
            "2  Chrysalis Dorsal Ventral Mounted \"NatureServe ...                     OBJECTIVE\n",
            "3  A study of the supervision of the Foreign Mark...                     OBJECTIVE\n",
            "4  The debt service coverage ratio (DSCR), also k...                     OBJECTIVE\n",
            "                                               input label\n",
            "0  He was Chief magistrate of Anguilla from 1842 ...  None\n",
            "1  He escapes at the last minute and sets light t...  None\n",
            "2  Ambassador Apakan is the Chief Monitor of the ...  None\n",
            "3  Education in Wales Estyn welcomes new chief in...  None\n",
            "4  Their Social Splash (1915) Back Stage (1917) T...  None\n"
          ],
          "name": "stdout"
        }
      ]
    },
    {
      "cell_type": "code",
      "metadata": {
        "id": "2xoDSd0361LN"
      },
      "source": [
        "def clean_text(x):\n",
        "    pattern = r'[^a-zA-z0-9\\s]'\n",
        "    text = re.sub(pattern, '', x)\n",
        "    return x"
      ],
      "execution_count": 172,
      "outputs": []
    },
    {
      "cell_type": "code",
      "metadata": {
        "id": "Uqn8FgP865HN"
      },
      "source": [
        "train_df[\"input\"] = train_df[\"input\"].apply(lambda x: clean_text(x))\n",
        "test_df[\"input\"] = test_df[\"input\"].apply(lambda x: clean_text(x))"
      ],
      "execution_count": 173,
      "outputs": []
    },
    {
      "cell_type": "code",
      "metadata": {
        "id": "2oDRbpYR7QeN"
      },
      "source": [
        "train_x, val_x, train_y, val_y = train_test_split(train_df['input'], train_df['label'],\n",
        "                                                    stratify=train_df['label'], \n",
        "                                                    random_state = SEED,\n",
        "                                                    test_size=0.25)"
      ],
      "execution_count": 174,
      "outputs": []
    },
    {
      "cell_type": "code",
      "metadata": {
        "colab": {
          "base_uri": "https://localhost:8080/"
        },
        "id": "MTKj_TU47iHC",
        "outputId": "c5b46453-7e7a-4d02-a758-158c1546e28a"
      },
      "source": [
        "max_len_tr = max(len(i.split(' ')) for i in train_df[\"input\"])\n",
        "max_len_ts = max(len(i.split(' ')) for i in test_df[\"input\"])\n",
        "print('Longest train sentence: ', max_len_tr)\n",
        "print('Longest test sentence: ', max_len_ts)\n",
        "max_len = max(max_len_tr, max_len_ts)\n",
        "\n",
        "tokenizer = Tokenizer(max_words)\n",
        "tokenizer.fit_on_texts(list(train_x))\n",
        "train_x = tokenizer.texts_to_sequences(train_x)\n",
        "val_x = tokenizer.texts_to_sequences(val_x)\n",
        "\n",
        "# Tokenize test data based on train tokenizer?\n",
        "test_x = tokenizer.texts_to_sequences(test_df['input'])\n",
        "\n",
        "train_x = np.asarray(pad_sequences(train_x, maxlen=max_len))\n",
        "val_x = np.asarray(pad_sequences(val_x, maxlen=max_len))\n",
        "test_x = np.asarray(pad_sequences(test_x, maxlen=max_len))"
      ],
      "execution_count": 175,
      "outputs": [
        {
          "output_type": "stream",
          "text": [
            "Longest train sentence:  16255\n",
            "Longest test sentence:  4674\n"
          ],
          "name": "stdout"
        }
      ]
    },
    {
      "cell_type": "code",
      "metadata": {
        "id": "yG56w8688ylv"
      },
      "source": [
        "le = LabelEncoder()\n",
        "train_y = to_categorical(le.fit_transform(train_y.values))\n",
        "val_y = to_categorical(le.transform(val_y.values))"
      ],
      "execution_count": 176,
      "outputs": []
    },
    {
      "cell_type": "code",
      "metadata": {
        "colab": {
          "base_uri": "https://localhost:8080/"
        },
        "id": "VW_tkX9v8-RH",
        "outputId": "fb07a908-a6d2-4ef5-b237-74e7bcc5406f"
      },
      "source": [
        "no_of_classes=len(le.classes_)\n",
        "print('Number of classes: ', no_of_classes)"
      ],
      "execution_count": 177,
      "outputs": [
        {
          "output_type": "stream",
          "text": [
            "Number of classes:  37\n"
          ],
          "name": "stdout"
        }
      ]
    },
    {
      "cell_type": "code",
      "metadata": {
        "id": "gvKNWMeAz9Su"
      },
      "source": [
        "def load_glove(word_index):\n",
        "    EMBEDDING_FILE = embed_path\n",
        "    def get_coefs(word,*arr): return word, np.asarray(arr, dtype='float32')[:300]\n",
        "    embeddings_index = dict(get_coefs(*o.split(\" \")) for o in open(EMBEDDING_FILE))\n",
        "    \n",
        "    all_embs = np.stack(embeddings_index.values())\n",
        "    emb_mean,emb_std = -0.005838499,0.48782197\n",
        "    embed_size = all_embs.shape[1]\n",
        "\n",
        "    nb_words = max_words\n",
        "    embedding_matrix = np.random.normal(emb_mean, emb_std, (nb_words, embed_size))\n",
        "    for word, i in word_index.items():\n",
        "        if i >= max_words: continue\n",
        "        embedding_vector = embeddings_index.get(word)\n",
        "        if embedding_vector is not None: \n",
        "            embedding_matrix[i] = embedding_vector\n",
        "        else:\n",
        "            embedding_vector = embeddings_index.get(word.capitalize())\n",
        "            if embedding_vector is not None: \n",
        "                embedding_matrix[i] = embedding_vector\n",
        "    return embedding_matrix"
      ],
      "execution_count": 178,
      "outputs": []
    },
    {
      "cell_type": "code",
      "metadata": {
        "colab": {
          "base_uri": "https://localhost:8080/"
        },
        "id": "hbVOs2Hj9Kgm",
        "outputId": "1f7c9803-0686-4a84-9c58-d39f280c46d3"
      },
      "source": [
        "embedding_matrix = load_glove(tokenizer.word_index)"
      ],
      "execution_count": 179,
      "outputs": [
        {
          "output_type": "stream",
          "text": [
            "/usr/local/lib/python3.7/dist-packages/IPython/core/interactiveshell.py:2882: FutureWarning: arrays to stack must be passed as a \"sequence\" type such as list or tuple. Support for non-sequence iterables such as generators is deprecated as of NumPy 1.16 and will raise an error in the future.\n",
            "  exec(code_obj, self.user_global_ns, self.user_ns)\n"
          ],
          "name": "stderr"
        }
      ]
    },
    {
      "cell_type": "markdown",
      "metadata": {
        "id": "dQmmOAp6zU3b"
      },
      "source": [
        "### Model"
      ]
    },
    {
      "cell_type": "code",
      "metadata": {
        "id": "b-BCy2y_roHp",
        "colab": {
          "base_uri": "https://localhost:8080/"
        },
        "outputId": "0ff79b87-9759-414f-c8eb-22594bddf897"
      },
      "source": [
        "print(model_name)\n",
        "if model_name == 'simple_ff':\n",
        "    e = Embedding(max_words, embed_size, weights=[embedding_matrix], input_length=4, trainable=False)\n",
        "    model = Sequential()\n",
        "    model.add(e)\n",
        "    model.add(Flatten())\n",
        "    model.add(Dense(32, activation='relu'))\n",
        "    model.add(Dense(no_of_classes,activation='softmax'))\n",
        "elif model_name == 'lstm':\n",
        "    # input length need not be fixed, using LSTM after embedding\n",
        "    e = Embedding(max_words, embed_size, weights=[embedding_matrix], trainable=False)\n",
        "    model = Sequential()\n",
        "    model.add(e)\n",
        "    model.add(LSTM(lstm_rep_size))\n",
        "    # final hidden layer representation has dimensions 32x1\n",
        "    model.add(Dense(lstm_rep_size, activation='relu'))\n",
        "    model.add(Dense(no_of_classes, activation='softmax'))\n",
        "elif model_name == 'bidir_lstm':\n",
        "    # input length need not be fixed, using LSTM after embedding\n",
        "    e = Embedding(max_words, embed_size, weights=[embedding_matrix], trainable=False)\n",
        "    model = Sequential()\n",
        "    model.add(e)\n",
        "    model.add(Bidirectional(LSTM(lstm_rep_size)))\n",
        "    # final hidden layer representation has dimensions 32x1\n",
        "    model.add(Dense(lstm_rep_size, activation='relu'))\n",
        "    model.add(Dense(no_of_classes, activation='softmax'))\n",
        "elif model_name == 'self_attn':\n",
        "    e = Embedding(max_words, embed_size, weights=[embedding_matrix], input_length=max_len, trainable=False)\n",
        "    model = Sequential()\n",
        "    model.add(e)\n",
        "    model.add(LSTM(lstm_rep_size, return_sequences=True))\n",
        "    model.add(SeqSelfAttention(attention_width=5,attention_activation='sigmoid'))\n",
        "    model.add(Lambda(lambda x:x[:,0,:]))\n",
        "    model.add(Dense(lstm_rep_size, activation='relu'))\n",
        "    model.add(Dense(no_of_classes, activation='softmax'))\n",
        "else:\n",
        "    raise NotImplementedError"
      ],
      "execution_count": 180,
      "outputs": [
        {
          "output_type": "stream",
          "text": [
            "simple_lstm\n"
          ],
          "name": "stdout"
        }
      ]
    },
    {
      "cell_type": "code",
      "metadata": {
        "colab": {
          "base_uri": "https://localhost:8080/",
          "height": 755
        },
        "id": "-Xuu8vcdzD0r",
        "outputId": "0dfdc294-6d16-4651-9200-c9e8de0e98ed"
      },
      "source": [
        "model.compile(loss='categorical_crossentropy', optimizer='adam', metrics=['accuracy'])\n",
        "print(model.summary())\n",
        "plot_model(model)"
      ],
      "execution_count": 181,
      "outputs": [
        {
          "output_type": "stream",
          "text": [
            "Model: \"sequential_20\"\n",
            "_________________________________________________________________\n",
            "Layer (type)                 Output Shape              Param #   \n",
            "=================================================================\n",
            "embedding_20 (Embedding)     (None, None, 50)          2500000   \n",
            "_________________________________________________________________\n",
            "lstm_14 (LSTM)               (None, 32)                10624     \n",
            "_________________________________________________________________\n",
            "dense_27 (Dense)             (None, 32)                1056      \n",
            "_________________________________________________________________\n",
            "dense_28 (Dense)             (None, 37)                1221      \n",
            "=================================================================\n",
            "Total params: 2,512,901\n",
            "Trainable params: 12,901\n",
            "Non-trainable params: 2,500,000\n",
            "_________________________________________________________________\n",
            "None\n"
          ],
          "name": "stdout"
        },
        {
          "output_type": "execute_result",
          "data": {
            "image/png": "[encoded data removed]",
            "text/plain": [
              "<IPython.core.display.Image object>"
            ]
          },
          "metadata": {
            "tags": []
          },
          "execution_count": 181
        }
      ]
    },
    {
      "cell_type": "markdown",
      "metadata": {
        "id": "OBvbx9Xa-_Ca"
      },
      "source": [
        "### Training and Testing"
      ]
    },
    {
      "cell_type": "code",
      "metadata": {
        "colab": {
          "base_uri": "https://localhost:8080/"
        },
        "id": "_x0j7JD-9jW-",
        "outputId": "dd25fd2d-c9c3-4f9e-f0a6-f7f27a6345f4"
      },
      "source": [
        "es = EarlyStopping(monitor='val_loss', patience=50, verbose=0)\n",
        "checkpoint_filepath = os.path.join(data_dir, '%s_checkpoint' % model_name)\n",
        "model_checkpoint_callback = tf.keras.callbacks.ModelCheckpoint(\n",
        "    filepath=checkpoint_filepath,\n",
        "    save_weights_only=True,\n",
        "    monitor='accuracy',\n",
        "    mode='max',\n",
        "    save_best_only=True)\n",
        "with tf.device('/gpu:0'):\n",
        "    model.load_weights(checkpoint_filepath)\n",
        "    history = model.fit(train_x, train_y , validation_data = (val_x, val_y),\n",
        "                    epochs=100, callbacks=[es, model_checkpoint_callback])"
      ],
      "execution_count": null,
      "outputs": [
        {
          "output_type": "stream",
          "text": [
            "Epoch 1/100\n",
            "382/382 [==============================] - 180s 471ms/step - loss: 1.3764 - accuracy: 0.5921 - val_loss: 3.0705 - val_accuracy: 0.3102\n",
            "Epoch 2/100\n",
            "382/382 [==============================] - 180s 471ms/step - loss: 1.3410 - accuracy: 0.6026 - val_loss: 3.0805 - val_accuracy: 0.3122\n",
            "Epoch 3/100\n",
            "382/382 [==============================] - 180s 471ms/step - loss: 1.3393 - accuracy: 0.6020 - val_loss: 3.1096 - val_accuracy: 0.3154\n",
            "Epoch 4/100\n",
            "382/382 [==============================] - 180s 470ms/step - loss: 1.3385 - accuracy: 0.6057 - val_loss: 3.1248 - val_accuracy: 0.3129\n",
            "Epoch 5/100\n",
            "382/382 [==============================] - 180s 472ms/step - loss: 1.3167 - accuracy: 0.6083 - val_loss: 3.1402 - val_accuracy: 0.3174\n",
            "Epoch 6/100\n",
            "382/382 [==============================] - 180s 472ms/step - loss: 1.3220 - accuracy: 0.6083 - val_loss: 3.1421 - val_accuracy: 0.3117\n",
            "Epoch 7/100\n",
            "382/382 [==============================] - 180s 470ms/step - loss: 1.3107 - accuracy: 0.6103 - val_loss: 3.1747 - val_accuracy: 0.3110\n",
            "Epoch 8/100\n",
            "382/382 [==============================] - 180s 472ms/step - loss: 1.3726 - accuracy: 0.5958 - val_loss: 3.2386 - val_accuracy: 0.3058\n",
            "Epoch 9/100\n",
            "382/382 [==============================] - 180s 472ms/step - loss: 1.3448 - accuracy: 0.5976 - val_loss: 3.2174 - val_accuracy: 0.3083\n",
            "Epoch 10/100\n",
            "382/382 [==============================] - 181s 473ms/step - loss: 1.3319 - accuracy: 0.6053 - val_loss: 3.1561 - val_accuracy: 0.3139\n",
            "Epoch 11/100\n",
            "382/382 [==============================] - 180s 471ms/step - loss: 1.3129 - accuracy: 0.6074 - val_loss: 3.1910 - val_accuracy: 0.3191\n",
            "Epoch 12/100\n",
            "382/382 [==============================] - 179s 470ms/step - loss: 1.3186 - accuracy: 0.6099 - val_loss: 3.2612 - val_accuracy: 0.3016\n",
            "Epoch 13/100\n",
            "382/382 [==============================] - 178s 467ms/step - loss: 1.3185 - accuracy: 0.6069 - val_loss: 3.1965 - val_accuracy: 0.3122\n",
            "Epoch 14/100\n",
            "382/382 [==============================] - 179s 468ms/step - loss: 1.3731 - accuracy: 0.5943 - val_loss: 3.1495 - val_accuracy: 0.3036\n",
            "Epoch 15/100\n",
            "382/382 [==============================] - 177s 463ms/step - loss: 1.3676 - accuracy: 0.5905 - val_loss: 3.1989 - val_accuracy: 0.3134\n",
            "Epoch 16/100\n",
            "382/382 [==============================] - 177s 462ms/step - loss: 1.2861 - accuracy: 0.6128 - val_loss: 3.2430 - val_accuracy: 0.2997\n",
            "Epoch 17/100\n",
            "382/382 [==============================] - 176s 462ms/step - loss: 1.2643 - accuracy: 0.6253 - val_loss: 3.2310 - val_accuracy: 0.3070\n",
            "Epoch 18/100\n",
            "382/382 [==============================] - 176s 462ms/step - loss: 1.3027 - accuracy: 0.6102 - val_loss: 3.2840 - val_accuracy: 0.3051\n",
            "Epoch 19/100\n",
            "382/382 [==============================] - 176s 462ms/step - loss: 1.2779 - accuracy: 0.6158 - val_loss: 3.2702 - val_accuracy: 0.3090\n",
            "Epoch 20/100\n",
            "382/382 [==============================] - 176s 462ms/step - loss: 1.2571 - accuracy: 0.6242 - val_loss: 3.2900 - val_accuracy: 0.3100\n",
            "Epoch 21/100\n",
            "382/382 [==============================] - 177s 463ms/step - loss: 1.2641 - accuracy: 0.6236 - val_loss: 3.2976 - val_accuracy: 0.3127\n",
            "Epoch 22/100\n",
            "382/382 [==============================] - 177s 463ms/step - loss: 1.2775 - accuracy: 0.6215 - val_loss: 3.3343 - val_accuracy: 0.3048\n",
            "Epoch 23/100\n",
            "382/382 [==============================] - 176s 461ms/step - loss: 1.2863 - accuracy: 0.6184 - val_loss: 3.7563 - val_accuracy: 0.2567\n",
            "Epoch 24/100\n",
            "382/382 [==============================] - 177s 462ms/step - loss: 1.6625 - accuracy: 0.5147 - val_loss: 3.1485 - val_accuracy: 0.3093\n",
            "Epoch 25/100\n",
            "382/382 [==============================] - 177s 464ms/step - loss: 1.3815 - accuracy: 0.5812 - val_loss: 3.2049 - val_accuracy: 0.3125\n",
            "Epoch 26/100\n",
            "285/382 [=====================>........] - ETA: 38s - loss: 1.3162 - accuracy: 0.6047"
          ],
          "name": "stdout"
        }
      ]
    },
    {
      "cell_type": "code",
      "metadata": {
        "id": "j9SihvD--BpS"
      },
      "source": [
        "## prediction on test and saving outputs in test json format\n",
        "model.load_weights(checkpoint_filepath)\n",
        "preds = model.predict_classes(test_x, verbose=1)"
      ],
      "execution_count": null,
      "outputs": []
    },
    {
      "cell_type": "code",
      "metadata": {
        "id": "QYqUwQyQxOfE"
      },
      "source": [
        "print(checkpoint_filepath)\n",
        "print(type(preds), len(preds))\n",
        "print(preds[0])\n",
        "preds = le.inverse_transform(preds)\n",
        "print(preds[0])"
      ],
      "execution_count": null,
      "outputs": []
    },
    {
      "cell_type": "code",
      "metadata": {
        "id": "pICpwGxpyrRP"
      },
      "source": [
        "# save preds to new test json\n",
        "save_pred = os.path.join(data_dir, '%s_predictions.json' % model_name)\n",
        "output_list = []\n",
        "for i, item in enumerate(test_json):\n",
        "    item['label'] = preds[i]\n",
        "    output_list.append(item)\n",
        "with open(save_pred, 'w') as f:\n",
        "    json.dump(output_list, f, indent=4)"
      ],
      "execution_count": null,
      "outputs": []
    },
    {
      "cell_type": "code",
      "metadata": {
        "id": "AAclZP4U19rs"
      },
      "source": [
        ""
      ],
      "execution_count": null,
      "outputs": []
    },
    {
      "cell_type": "code",
      "metadata": {
        "id": "A7C0uwQD1zyZ"
      },
      "source": [
        ""
      ],
      "execution_count": null,
      "outputs": []
    }
  ]
}